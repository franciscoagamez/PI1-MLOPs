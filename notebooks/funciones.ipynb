{
 "cells": [
  {
   "cell_type": "markdown",
   "metadata": {},
   "source": [
    "# Funciones para los Endpoints / ML\n",
    "Sobre los archivos generados en el notebook de Consultas, se cargan ahora para dar respuesta a los Endpoints y Modelo Machine Learning. El objetivo es garantizar un proceso rápido y eficiente en los llamados de la API."
   ]
  },
  {
   "cell_type": "markdown",
   "metadata": {},
   "source": [
    "### IMPORTAR LIBRERÍAS"
   ]
  },
  {
   "cell_type": "code",
   "execution_count": 2,
   "metadata": {},
   "outputs": [],
   "source": [
    "import pandas as pd\n",
    "import os"
   ]
  },
  {
   "cell_type": "markdown",
   "metadata": {},
   "source": [
    "### Endpoint 1\n",
    "\n",
    "def PlayTimeGenre( genero : str ): Debe devolver año con mas horas jugadas para dicho género.\n",
    "\n",
    "Ejemplo de retorno: {\"Año de lanzamiento con más horas jugadas para Género X\" : 2013}"
   ]
  },
  {
   "cell_type": "code",
   "execution_count": 2,
   "metadata": {},
   "outputs": [],
   "source": [
    "def PlayTimeGenre(genero: str):\n",
    "    result_df = pd.read_csv('data/DataAPI/PlayTimeGenre.csv')\n",
    "\n",
    "    # Filtrar el DataFrame para el género específico\n",
    "    filtered_df = result_df[result_df['genres'] == genero]\n",
    "    \n",
    "    # Agrupar por año de lanzamiento y sumar las horas jugadas\n",
    "    grouped_df = filtered_df.groupby('year')['hours_game'].sum()\n",
    "    \n",
    "    # Encontrar el año con más horas jugadas\n",
    "    max_hours_year = grouped_df.idxmax()\n",
    "\n",
    "    # Construye el response_data\n",
    "    response_data = {\"Año de lanzamiento con más horas jugadas para {}: {}\".format(genero, max_hours_year)}\n",
    "\n",
    "    # Muestra el resultado\n",
    "    return response_data"
   ]
  },
  {
   "cell_type": "markdown",
   "metadata": {},
   "source": [
    "### Endpoint 2\n",
    "def UserForGenre( genero : str ): Debe devolver el usuario que acumula más horas jugadas para el género dado y una lista de la acumulación de horas jugadas por año.\n",
    "\n",
    "Ejemplo de retorno: {\"Usuario con más horas jugadas para Género X\" : us213ndjss09sdf, \"Horas jugadas\":[{Año: 2013, Horas: 203}, {Año: 2012, Horas: 100}, {Año: 2011, Horas: 23}]}"
   ]
  },
  {
   "cell_type": "code",
   "execution_count": 6,
   "metadata": {},
   "outputs": [],
   "source": [
    "def UserForGenre(genero:str):\n",
    "    consulta2 = pd.read_csv('data/DataAPI/UserForGenre.csv')\n",
    "    \n",
    "    # Filtrar el DataFrame por el género dado\n",
    "    genre_data = consulta2[consulta2['genres'] == genero]\n",
    "\n",
    "    # Encontrar al usuario con más horas jugadas para ese género\n",
    "    top_user = genre_data.loc[genre_data['hours_game'].idxmax()]['user_id']\n",
    "\n",
    "    # Crear una lista de acumulación de horas jugadas por año\n",
    "    hours_by_year = genre_data.groupby('year')['hours_game'].sum().reset_index()\n",
    "  \n",
    "    hours_by_year = hours_by_year.rename(columns={'year': 'Año', 'hours_game': 'Horas'})\n",
    "    \n",
    "    hours_list = hours_by_year.to_dict(orient='records')\n",
    "\n",
    "    # Crear el diccionario de retorno\n",
    "    result = {\n",
    "        \"Usuario con más horas jugadas para Género {}\".format(genero): top_user,\n",
    "        \"Horas jugadas\": hours_list\n",
    "    }\n",
    "\n",
    "    return result"
   ]
  },
  {
   "cell_type": "markdown",
   "metadata": {},
   "source": [
    "### Endpoint 3\n",
    "def UsersRecommend( año : int ): Devuelve el top 3 de juegos MÁS recomendados por usuarios para el año dado. (reviews.recommend = True y comentarios positivos/neutrales)\n",
    "\n",
    "Ejemplo de retorno: [{\"Puesto 1\" : X}, {\"Puesto 2\" : Y},{\"Puesto 3\" : Z}]"
   ]
  },
  {
   "cell_type": "code",
   "execution_count": 7,
   "metadata": {},
   "outputs": [],
   "source": [
    "def UsersRecommend(year: int):\n",
    "    df = pd.read_csv('data/DataAPI/UsersRecommend.csv')\n",
    "    \n",
    "    # Filtrar el DataFrame por el año especificado\n",
    "    result_df = df[df['year'] == year]\n",
    "\n",
    "    response_data = [{\"Puesto 1\": result_df.iloc[0]['title']},\n",
    "                     {\"Puesto 2\": result_df.iloc[1]['title']},\n",
    "                     {\"Puesto 3\": result_df.iloc[2]['title']}]\n",
    "\n",
    "    return response_data"
   ]
  },
  {
   "cell_type": "markdown",
   "metadata": {},
   "source": [
    "### Endpoint 4\n",
    "def UsersNotRecommend( año : int ): Devuelve el top 3 de desarrolladoras con juegos MENOS recomendados por usuarios para el año dado. (reviews.recommend = False y comentarios negativos)\n",
    "\n",
    "Ejemplo de retorno: [{\"Puesto 1\" : X}, {\"Puesto 2\" : Y},{\"Puesto 3\" : Z}]"
   ]
  },
  {
   "cell_type": "code",
   "execution_count": 8,
   "metadata": {},
   "outputs": [],
   "source": [
    "def UsersNotRecommend(year: int):\n",
    "    df = pd.read_csv('data/DataAPI/UsersNotRecommend.csv')\n",
    "\n",
    "    # Filtrar el DataFrame por el año especificado\n",
    "    result_df = df[df['year'] == year]\n",
    "    \n",
    "    response_data = [{\"Puesto 1\": result_df.iloc[0]['title']},\n",
    "                    {\"Puesto 2\": result_df.iloc[1]['title']},\n",
    "                    {\"Puesto 3\": result_df.iloc[2]['title']}]\n",
    "    \n",
    "    return response_data"
   ]
  },
  {
   "cell_type": "markdown",
   "metadata": {},
   "source": [
    "### Endpoint 5\n",
    "def sentiment_analysis( empresa desarrolladora : str ): Según la empresa desarrolladora, se devuelve un diccionario con el nombre de la desarrolladora como llave y una lista con la cantidad total de registros de reseñas de usuarios que se encuentren categorizados con un análisis de sentimiento como valor.\n",
    "\n",
    "Ejemplo de retorno: {'Valve' : [Negative = 182, Neutral = 120, Positive = 278]}"
   ]
  },
  {
   "cell_type": "code",
   "execution_count": 10,
   "metadata": {},
   "outputs": [],
   "source": [
    "def sentiment_analysis(company: str):\n",
    "    df = pd.read_csv('data/DataAPI/sentiment_analysis.csv')\n",
    "\n",
    "    # Filtrar por la empresa desarrolladora\n",
    "    result_df = df[df['developer'] == company]\n",
    "\n",
    "    # Convertir a formato de diccionario\n",
    "    response_data = result_df.set_index('developer').to_dict(orient='index')\n",
    "    \n",
    "    return response_data"
   ]
  }
 ],
 "metadata": {
  "kernelspec": {
   "display_name": "proyecto1",
   "language": "python",
   "name": "python3"
  },
  "language_info": {
   "codemirror_mode": {
    "name": "ipython",
    "version": 3
   },
   "file_extension": ".py",
   "mimetype": "text/x-python",
   "name": "python",
   "nbconvert_exporter": "python",
   "pygments_lexer": "ipython3",
   "version": "3.10.5"
  }
 },
 "nbformat": 4,
 "nbformat_minor": 2
}
